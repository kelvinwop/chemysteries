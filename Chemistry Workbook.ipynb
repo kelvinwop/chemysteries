{
 "cells": [
  {
   "cell_type": "code",
   "execution_count": 1,
   "metadata": {
    "scrolled": true
   },
   "outputs": [
    {
     "name": "stdout",
     "output_type": "stream",
     "text": [
      "(x + 0.04435)**2 , -0.023*x + 0.003933\n",
      "[0.0154612894288134]\n",
      "r1:  0.155538710571187\n",
      "p1:  0.0598112894288134\n",
      "p2:  0.0598112894288134\n"
     ]
    }
   ],
   "source": [
    "import numpy as np\n",
    "import sympy as sp\n",
    "from sympy.solvers import solve\n",
    "\n",
    "x= sp.Symbol(\"x\", positive=True)\n",
    "\n",
    "r1c=0.342\n",
    "p1c=8.87e-2\n",
    "p2c=8.87e-2\n",
    "\n",
    "r1c/=2\n",
    "p1c/=2\n",
    "p2c/=2\n",
    "\n",
    "#r1c-x\n",
    "#p1c+x\n",
    "#p2c+x\n",
    "\n",
    "#([p1c+x][p2c+x]/[r1c-x])=2.3e-2\n",
    "#[p1c+x][p2c+x]=2.3e-2*r1c-2.3e-2*x\n",
    "\n",
    "ans=solve((p1c+x)*(p2c+x)-(2.3e-2*r1c-2.3e-2*x),x)\n",
    "print((p1c+x)*(p2c+x),\",\",(2.3e-2*r1c-2.3e-2*x))\n",
    "print(ans)\n",
    "\n",
    "r1c-=ans[0]\n",
    "p1c+=ans[0]\n",
    "p2c+=ans[0]\n",
    "\n",
    "print(\"r1: \",r1c)\n",
    "print(\"p1: \",p1c)\n",
    "print(\"p2: \",p2c)"
   ]
  },
  {
   "cell_type": "code",
   "execution_count": 2,
   "metadata": {},
   "outputs": [],
   "source": [
    "#finds equilibrium concentrations given a list of reactants, products, coefficients of reactants, coefficients of products,\n",
    "#and equilibrium constant k(c)\n",
    "def FindEquilibrium(reactants, products, coRe, coPro, k, UseAllReactants=False):\n",
    "    import numpy as np\n",
    "    import sympy as sp\n",
    "    from sympy import solveset, S, FiniteSet\n",
    "    x= sp.Symbol(\"x\", positive=True)\n",
    "    lhs=1\n",
    "    rhs=k\n",
    "    for i in range(len(reactants)):\n",
    "        rhs*=(reactants[i]-coRe[i]*x)**coRe[i]\n",
    "    for i in range(len(products)):\n",
    "        lhs*=(products[i]+coPro[i]*x)**coPro[i]\n",
    "    if(not UseAllReactants):\n",
    "        print(rhs,\"=\",lhs)\n",
    "        ans=solveset(lhs-rhs,x, domain=S.Reals)\n",
    "    else:\n",
    "        ans=FiniteSet(min(reactants))\n",
    "        print(\"UseAllReactants is set to True. Reaction will proceed until a reactant is consumed completely.\")\n",
    "    print(\"x=\",ans)\n",
    "    valid_x_list=[]\n",
    "    react_out=[]\n",
    "    prod_out=[]\n",
    "    for i in range(len(ans)):\n",
    "        broken=False\n",
    "        for j in range(len(reactants)):\n",
    "            if(reactants[j]-ans.args[i]<0):\n",
    "                broken=True\n",
    "                break\n",
    "        for j in range(len(products)):\n",
    "            if(products[j]+ans.args[i]<0):\n",
    "                broken=True\n",
    "                break\n",
    "        if(not broken):\n",
    "            valid_x_list.append(ans.args[i])\n",
    "            print(\"\\nusing valid x: \",ans.args[i])\n",
    "            for j in range(len(reactants)):\n",
    "                print(\"r\"+str(j+1)+\": \",reactants[j]-ans.args[i]*coRe[j])\n",
    "                react_out.append(reactants[j]-ans.args[i]*coRe[j])\n",
    "            for j in range(len(products)):\n",
    "                print(\"p\"+str(j+1)+\": \",products[j]+ans.args[i]*coPro[j])\n",
    "                prod_out.append(products[j]+ans.args[i]*coPro[j])\n",
    "    return np.array(valid_x_list,dtype=np.float),np.array(react_out,dtype=np.float),np.array(prod_out,dtype=np.float)\n",
    "\n",
    "#FindEquilibrium([0.218],[1.34e-2,1.93],[0],[1,1],1.8e-4)"
   ]
  },
  {
   "cell_type": "code",
   "execution_count": 3,
   "metadata": {},
   "outputs": [],
   "source": [
    "#k2=exp(-dH/8.3145e-3*(1/T2-1/T1)+log(k1))\n",
    "#np.exp(198/8.3145e-3*(1/1260-1/1150)+np.log(0.365))\n",
    "\n",
    "def GetNewKConstant(k1,T1,T2,deltaH):\n",
    "    return np.exp(-deltaH/8.3145e-3*(1/T2-1/T1)+np.log(k1))\n",
    "\n",
    "#GetNewKConstant(322,350,453,-11.7)"
   ]
  },
  {
   "cell_type": "code",
   "execution_count": 4,
   "metadata": {},
   "outputs": [
    {
     "name": "stdout",
     "output_type": "stream",
     "text": [
      "moles reactant:  2.9427865512974045 \n",
      "moles product:  1.0\n"
     ]
    },
    {
     "data": {
      "text/plain": [
       "array([1.        , 2.94278655])"
      ]
     },
     "execution_count": 4,
     "metadata": {},
     "output_type": "execute_result"
    }
   ],
   "source": [
    "#Finds pH given H+ concentration\n",
    "def pH(Hydronium_Concentration):\n",
    "    import numpy as np\n",
    "    return -np.log10(Hydronium_Concentration)\n",
    "\n",
    "#Finds H+ concentration given pH\n",
    "def Hp(pH):\n",
    "    import numpy as np\n",
    "    return 10**(-pH)\n",
    "\n",
    "#Finds pH using the Henderson-Hasselbalch equation. Provide either Ka or Kb, the concentrations and whether or not\n",
    "#to get a more accurate ratio of products/reactants by using ICE tables with the Ka.\n",
    "def HendersonHasselbalch(react_concentration, product_concentration, Ka=None, Kb=None, PerformIce=False):\n",
    "    assert(Ka is not None or Kb is not None) #ensure an equilibrium constant exists\n",
    "    import numpy as np\n",
    "    if(not PerformIce):\n",
    "        if(Ka):\n",
    "            return -np.log10(Ka)+np.log10(product_concentration/react_concentration)\n",
    "        else:\n",
    "            return 14-(-np.log10(Kb)+np.log10(product_concentration/react_concentration))\n",
    "    else:\n",
    "        raise Exception('Ice tables not yet implemented.')\n",
    "\n",
    "def pHChangeOfAcidInBuffer(molarityStrongAcid,molarityBufferAcid,molarityBufferBase,Ka):\n",
    "    ph_i=HendersonHasselbalch(molarityBufferAcid,molarityBufferBase,Ka)\n",
    "    print(\"initial ph :\",ph_i)\n",
    "    out=FindEquilibrium([molarityStrongAcid,molarityBufferBase],[molarityBufferAcid],[1,1],[1],1,UseAllReactants=True)\n",
    "    product_con=out[1][1]\n",
    "    react_con=out[2][0]\n",
    "    ph_f=HendersonHasselbalch(react_con,product_con,Ka)\n",
    "    print(\"final ph :\",ph_f)\n",
    "    dPh=ph_f-ph_i\n",
    "    print(\"dPh :\",dPh)\n",
    "    return dPh\n",
    "\n",
    "def BufferBuilder(TargetPh, Ka):\n",
    "    import numpy as np\n",
    "    ratio=10**(TargetPh+np.log10(Ka))\n",
    "    print(\"moles reactant: \",1/ratio,\"\\nmoles product: \",ratio/ratio)\n",
    "    return np.array([ratio/ratio,1/ratio],dtype=np.float)\n",
    "\n",
    "BufferBuilder(9.85,4.8e-11)\n",
    "#pHChangeOfAcidInBuffer(0.089,0.419,0.341,4.5e-4)\n",
    "#HendersonHasselbalch(0.463, 0.22, Ka=4.8e-11)\n",
    "#pH(3.01e-3)\n",
    "#Hp(3.516)"
   ]
  },
  {
   "cell_type": "code",
   "execution_count": 11,
   "metadata": {},
   "outputs": [
    {
     "name": "stdout",
     "output_type": "stream",
     "text": [
      "initial ph : 9.496149282900015\n",
      "UseAllReactants is set to True. Reaction will proceed until a reactant is consumed completely.\n",
      "x= {0.114}\n",
      "\n",
      "using valid x:  0.114000000000000\n",
      "r1:  0\n",
      "r2:  0.337000000000000\n",
      "p1:  0.373000000000000\n",
      "final ph : 9.211193574165957\n",
      "dPh : -0.2849557087340582\n"
     ]
    },
    {
     "data": {
      "text/plain": [
       "14.284955708734058"
      ]
     },
     "execution_count": 11,
     "metadata": {},
     "output_type": "execute_result"
    }
   ],
   "source": [
    "#workspace\n",
    "import numpy as np\n",
    "import sympy as sp\n",
    "from sympy.abc import x\n",
    "from math import degrees, radians\n",
    "from math import *\n",
    "\n",
    "BufferBuilder()"
   ]
  },
  {
   "cell_type": "code",
   "execution_count": null,
   "metadata": {},
   "outputs": [],
   "source": [
    "#finds pH using salt molarity and Ka or Kb of the salt. Make sure you give Ka of known substance\n",
    "#if the acid is on LHS and Kb if base is on LHS\n",
    "#eg. If acid Ka is known and it combines into some salt Conj. Acid+Conj. Base, input is Kb=1e-14/Ka\n",
    "def FindPhOfSalt(molarity,Ka=None,Kb=None):\n",
    "    import numpy as np\n",
    "    pH=np.array([]);\n",
    "    if(Ka):\n",
    "        x_val,_,_=FindEquilibrium([molarity],[0,0],[1],[1,1],Ka)\n",
    "        pH=-np.log10(np.array(x_val).astype(np.float))\n",
    "    elif(Kb):\n",
    "        x_val,_,_=FindEquilibrium([molarity],[0,0],[1],[1,1],Kb)\n",
    "        pH=14+np.log10(np.array(x_val).astype(np.float))\n",
    "    else:\n",
    "        assert(Ka is not None and Kb is not None)\n",
    "    print('pH is: ',pH)\n",
    "    return pH\n",
    "#FindPhOfSalt(0.217,Kb=1e-14/1.8e-5)"
   ]
  }
 ],
 "metadata": {
  "kernelspec": {
   "display_name": "Python 3",
   "language": "python",
   "name": "python3"
  },
  "language_info": {
   "codemirror_mode": {
    "name": "ipython",
    "version": 3
   },
   "file_extension": ".py",
   "mimetype": "text/x-python",
   "name": "python",
   "nbconvert_exporter": "python",
   "pygments_lexer": "ipython3",
   "version": "3.6.4"
  }
 },
 "nbformat": 4,
 "nbformat_minor": 2
}
